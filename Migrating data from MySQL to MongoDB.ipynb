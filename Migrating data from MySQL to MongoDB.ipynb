{
 "cells": [
  {
   "cell_type": "code",
   "execution_count": 12,
   "metadata": {},
   "outputs": [],
   "source": [
    "#Step 1: Install the Required Modules\n",
    "pip install mysql-connector-python\n",
    "pip install pymongo"
   ]
  },
  {
   "cell_type": "code",
   "execution_count": 1,
   "metadata": {},
   "outputs": [],
   "source": [
    "#Step 2: Importing the installed modules\n",
    "import mysql.connector\n",
    "import pymongo"
   ]
  },
  {
   "cell_type": "code",
   "execution_count": 2,
   "metadata": {},
   "outputs": [],
   "source": [
    "#Step 3: Connect to MySQL\n",
    "mysql_conn = mysql.connector.connect(\n",
    " host=\"localhost\",\n",
    " user=\"root\",\n",
    " password=\"*********\",\n",
    " database=\"company1\"\n",
    ")"
   ]
  },
  {
   "cell_type": "code",
   "execution_count": 3,
   "metadata": {},
   "outputs": [],
   "source": [
    "#Step 4: Connect to MongoDB\n",
    "mongodb_host = \"mongodb://localhost:27017/\"\n",
    "mongodb_dbname = \"mymongodb\"\n",
    "myclient = pymongo.MongoClient(mongodb_host)\n",
    " \n",
    "mydb = myclient[\"mydatabase\"]\n",
    "mycol = mydb[\"mycollection\"]\n",
    "\n"
   ]
  },
  {
   "cell_type": "code",
   "execution_count": 4,
   "metadata": {},
   "outputs": [],
   "source": [
    "#Step 5: Read the Data from MySQL Table\n",
    "mysql_cursor = mysql_conn.cursor()\n",
    "mysql_cursor.execute(\"SELECT * FROM employee\")\n",
    "data = mysql_cursor.fetchall()"
   ]
  },
  {
   "cell_type": "code",
   "execution_count": 5,
   "metadata": {},
   "outputs": [],
   "source": [
    "#Step 6: Transform the Data to MongoDB Format\n",
    "mongo_data = []\n",
    "for row in data:\n",
    "    doc = {\n",
    "    \"emp_id\": row[0],\n",
    "    \"first_name\": row[1],\n",
    "    \"last_name\": row[2],\n",
    "    #\"birth_day\": row[3],\n",
    "    \"sex\":row[4],\n",
    "    \"salary_id\":row[5],\n",
    "    \"super_id\":row[6],\n",
    "    \"branch_id\":row[7]\n",
    "    }\n",
    "    mongo_data.append(doc)\n"
   ]
  },
  {
   "cell_type": "code",
   "execution_count": 6,
   "metadata": {},
   "outputs": [
    {
     "data": {
      "text/plain": [
       "<pymongo.results.InsertManyResult at 0x1871c0bcfd0>"
      ]
     },
     "execution_count": 6,
     "metadata": {},
     "output_type": "execute_result"
    }
   ],
   "source": [
    "#Step 7: Insert the data into MongoDB\n",
    "mycol.insert_many(mongo_data)"
   ]
  },
  {
   "cell_type": "code",
   "execution_count": 7,
   "metadata": {},
   "outputs": [],
   "source": [
    "#Step 8: Close the connections\n",
    "mysql_cursor.close()\n",
    "mysql_conn.close()\n",
    "myclient.close()\n"
   ]
  }
 ],
 "metadata": {
  "kernelspec": {
   "display_name": "Python 3",
   "language": "python",
   "name": "python3"
  },
  "language_info": {
   "codemirror_mode": {
    "name": "ipython",
    "version": 3
   },
   "file_extension": ".py",
   "mimetype": "text/x-python",
   "name": "python",
   "nbconvert_exporter": "python",
   "pygments_lexer": "ipython3",
   "version": "3.8.3"
  }
 },
 "nbformat": 4,
 "nbformat_minor": 4
}
